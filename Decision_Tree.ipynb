{
  "nbformat": 4,
  "nbformat_minor": 0,
  "metadata": {
    "colab": {
      "provenance": []
    },
    "kernelspec": {
      "name": "python3",
      "display_name": "Python 3"
    },
    "language_info": {
      "name": "python"
    }
  },
  "cells": [
    {
      "cell_type": "markdown",
      "source": [
        "**Theoratical Questions**"
      ],
      "metadata": {
        "id": "UHqAiP6422vF"
      }
    },
    {
      "cell_type": "markdown",
      "source": [
        "Q1.What is a Decision Tree, and how does it work?"
      ],
      "metadata": {
        "id": "YZ7a44Rl26d0"
      }
    },
    {
      "cell_type": "markdown",
      "source": [
        "Ans.A Decision Tree is a supervised machine learning algorithm used for classification and regression tasks. It models decisions and their possible consequences as a tree-like structure, making it easy to interpret.\n",
        "\n",
        "How a Decision Tree Works:\n",
        "\n",
        "1.Structure:\n",
        "\n",
        "    Each internal node represents a decision based on a feature (e.g., age > 30?).\n",
        "\n",
        "    Each branch represents the outcome of that decision (e.g., yes/no).\n",
        "\n",
        "    Each leaf node represents a final prediction (e.g., class label or value).\n",
        "\n",
        "2.Splitting the Data:\n",
        "\n",
        "    The tree is built by splitting the dataset into subsets based on feature values.\n",
        "\n",
        "    The goal is to find splits that best separate the data to minimize prediction error.\n",
        "\n",
        "3.Criteria for Splitting:\n",
        "\n",
        "    Classification: uses metrics like Gini impurity or Entropy to measure how \"pure\" a node is.\n",
        "\n",
        "    Regression: uses Mean Squared Error (MSE) or variance reduction."
      ],
      "metadata": {
        "id": "NEE3IVhf3G_E"
      }
    },
    {
      "cell_type": "markdown",
      "source": [
        "Q2.What are impurity measures in Decision Trees?"
      ],
      "metadata": {
        "id": "vO7Dc4bM4Y6z"
      }
    },
    {
      "cell_type": "markdown",
      "source": [
        "Ans.Impurity measures in Decision Trees are metrics used to evaluate how mixed the classes are within a node. The goal during tree construction is to reduce impurity with each split—i.e., to make nodes as pure as possible (containing samples from mostly one class).\n",
        "\n",
        "Common Impurity Measures:\n",
        "\n",
        "1.Gini Impurity\n",
        "\n",
        "2.Entropy (Information Gain)\n",
        "\n",
        "3.Classification Error (Less commonly used)"
      ],
      "metadata": {
        "id": "uHFwI1LY4hND"
      }
    },
    {
      "cell_type": "markdown",
      "source": [
        "Q3.What is the mathematical formula for Gini Impurity?"
      ],
      "metadata": {
        "id": "oJ1UQUjm4moz"
      }
    },
    {
      "cell_type": "markdown",
      "source": [
        "Ans.![Formula.png](data:image/png;base64,iVBORw0KGgoAAAANSUhEUgAAAPcAAABgCAYAAADB7+SoAAAAAXNSR0IArs4c6QAAAARnQU1BAACxjwv8YQUAAAAJcEhZcwAAEnQAABJ0Ad5mH3gAABJ5SURBVHhe7d1/VFR1/sfxJ0wBeQnTTEaOHJlwDJPYMJEB24D1B2yFSovmaTTdiEXQ4qS0qQR+Je0YoEJ2Ekv0hM45NZhGtJSzu0fbXCHJCLRER/xBFqSirjEjLCHfP1bmNBfMX8Bcx8/jnPmDz+d97wE9r7n3c+/9fK6LRqPpQBAEp+MqbxAEwTmIcAuCkxLhFgQnJcItCE5KhFsQnJQItyA4KRFuQXBSItyC4KREuAXBSYlwC4KTEuEWbhnR0dEYjUaqq6s5cOAA33zzDe+//z6PPfYYRUVFLFiwQL7JbU2EW1A8tVrNxo0bWbNmDW1tbSQlJREYGMi4ceNoaGhgzZo1BAYGUltbK9/0tibCLSiaJEnk5OSg0+l477330Ov1VFRUAGCxWCgqKsJqtdLU1MTnn38u3/y2JsItKNqyZcvQ6XT885//5I033pB3U1VVhdVq5dixY1gsFnn3bU2EW1CsGTNmMGHCBM6dO8eHH34o77ZpbW3l4MGD8ubbnouYzy0o1TvvvMOECRPYuXMnCQkJ8m7hKsSRW1AkSZLQaDS0tbXx3XffybuFayDCLShSUFAQkiTR1tZGfX29vNsmPj6e+Ph4ebMgwi0olcVi4ZdffqGjo4NffvlF3g2Xj+5Tp07lvvvuk3cJItyCUtXU1FBfX4+bmxt+fn7ybgCSk5Px8PDgs88+k3cJItyCkpWUlGC1Wpk0aRLBwcF2fUlJSYwfP5633nqLY8eO2fUJ/yOulguKlpCQwNy5c3Fzc+PAgQM0NTUREBBAc3Mz2dnZtgdahK5EuAXFU6vVREdHM2rUKE6dOoXJZKKmpkZeJsiIcAuCkxJjbkFwUiLcguCkRLgFwUmJcAuCkxLhFgQnJa6WC30qJSWFhIQE3Nzc5F295uLFi+Tn52MwGORdTk2EW+hTsbGxLFu2jHvuucfWdu7cOXbv3n3FZ8ivpn///vj4+DBo0CC8vLy6/eLozWmjQUFBTJkyhTNnzvDvf/9bMffgRbiFPpeWlkZCQgLu7u4AtLe3U1JSQlpamrz0hkyePJknn3yS0NBQ7r77bgDOnDnDX//6V3bt2iUvvynZ2dmEhoZy/PhxtFotAwYMYNu2baSnp8tL+5xqwIAB/ydvFITeVF1dzejRo/H19cXFxQVXV1c0Gg3t7e189dVX8vLrdujQIUpLS/noo48YPHgwfn5+eHp6YrFY2Llzp7z8hj3//PPExsayevVqVq5cyb/+9S8iIyMJCQnpsb/lZogLakKfs1gsZGVlceLECVubh4cHzz77LJGRkXa1N6OxsZHU1FQyMzM5d+4cYWFhaDQaedkNGz58OD4+PiQlJQFgNps5cOAAHh4ejB49Wl7e50S4BYcwm80UFhZy4cIFW5tarSYxMRFJkuxqb1ZxcTF5eXl4enoSExMj775hX375Jd9++y2VlZW2ttbWVrsaR7olwq1Wq1m0aBH/+Mc/+Pbbb6mtraWqqgqj0Uh0dDQAer2ev/3tb4SEhMg3FxTKYDCwY8cO2tvbbW1jx44lMzPTrq4nGAwGKisriY6O7rEvj+3btxMbG2v7fSVJIiAggJaWFr7++mt5eZ9TfLjnzp1LaWkpiYmJ9O/fnx07dpCRkUFubi6tra2sXLmSnJwc5s2bx4ABA7jjjjts20qShNFopK6uDpPJ1GVO8I1YsmQJhw4doqampteuvvYESZJYunQp+/bt48UXX5R3K0ZWVhZ79+61/axSqYiOjkav19vV9YQXXniBqVOn9toSyCkpKfj7+1NeXs7mzZvl3X1O0eFetmwZqampeHl5sXXrViIjI1mwYAHFxcUYDAZmzZpFQUEBkyZNQq1WyzcnKCiIoUOH4uLiwpAhQ664osf1ePDBB7nzzjvx9PREq9XKux1q4sSJrFmzhtLSUvbs2cPs2bPx9PREpVLJSxXDYrHw7rvv0tjYaGvz8vIiISFBcf++v0Wv1zNjxgx27drFiy++2GtfINdDseFOTU1l+vTp3HnnnZSVlfHKK690+w+2fv16TCYTly5dkndRXl7Ozp07OX/+PBUVFZhMJnnJdSspKaGhoQGz2ay45X0GDx6Mv78/Fy9e5NNPP8VqtcpLFGnXrl0UFRXR0tJiaxs2bBiZmZk9dgrdmyIjI0lMTMRkMpGSkoKPj48ihoeKDLdWq2XKlCm4u7vT0NBAUVGRvMTOtm3bOHXqlLwZgPT0dEaPHk1iYmK3Xw7Xq7i4mHHjxhEdHd3j90xvlsFgYPLkyUyfPp0vv/ySjo5b5xGGgoICysrKbONvFxcXxowZQ3JysrxUUbRaLS+88AKff/45ixcvBuAvf/kL06dPl5f2OUWGOy4ujqFDhwJw8OBBqqqq5CV2ysvLxTpaTmD9+vWYzWbbz+7u7jzzzDPExsba1SmFVqslOzubIUOGEBISQllZGWVlZYwbN85umOEoigz32LFjueOOO2hra+PQoUPy7m59//33dj9rNBoyMjJYtWoVRqORDz/8kKioKACCg4NZsWIFeXl5bNu2jXXr1iFJEgkJCRiNRsrKyli7di06nc5un0lJSaxatYoNGzZQVlZGamqqXb9wc8xmM/n5+TQ1Ndna7rnnHpKTk/ts/D19+nS2bt2KwWDgscceA2DOnDkYjUY+/vhjXn75ZdtQYc6cOQQFBaFWqwkICLB9vLy8OH36tGzPfU9x4Q4KCmLw4MEAV12Q/tcWLVpEeHg45eXlAAwaNIiIiAieeOIJxowZw4gRI2zPMw8dOpTx48fzxBNP8PDDD6PVaikqKuJPf/oTdXV1nDp1iujoaFavXm33UMWYMWOIiYkhKiqKgIAAhgwZYusTesaOHTv44IMP7O4XjxgxgpSUFLu63jBt2jQWLFjA2bNnCQwMZOXKlRQXF5OcnMyRI0f48ccfee6553j77beRJIn09HT8/f25//777T6BgYFXHUr2BcWFW5Ik2+2s31qQ/moqKyuZMGECGRkZXS4slZaWotPp2LRpE+3t7fj5+WG1Wpk2bRqLFy9m3rx5HDt2DG9vbyZOnGjbLjExkbFjx3L06FG7/V1Neno61dXV7N+//4Y+xcXF8l06tdzcXPbu3Wu7ZuDq6kpMTEyvnynFxMRw4sQJNm3ahMViQa1W4+npydy5c1myZAkLFy7k5MmThISEMHPmTPnmiqO4cPe0zrdWdOfixYtcunQJq9VKSUmJ7YKbxWLh9OnTuLi4MGzYMLttLBZLt1fmf0thYSGvvvoqmZmZN/R57bXX5Lt0esuXL+fIkSO2n93d3Xn66ad79PHUXwsODsbPz4+Kigruu+8+JEmiubmZwsJC2zWfzv97Dw+PHn2MtbcoclbYjh070Gq1WK1WsrOzuz3FWbduHd7e3tTX19uusPbr1w9fX1+qq6tts3Li4uLIysoCIDMzk+3bt9v28dJLLzF37lyamppYuHCh7ZQeYMuWLYSHh7Nnz54u39Kdv5/RaGTRokV2fUrR+Xe7ublRUFDAmjVr5CVX1PkwxvX6+eefMRgMdhfFboZer+fll1/Gy8vL1rZv3z7mzJnTI3c+fk2r1fLUU09hMpn44x//yJ///GcaGhqYP3++bQpnSEgI+fn5qNVqPvnkE0U/HIRSj9ydEwrc3d1tV8274+HhwciRI3n88ceJi4vjD3/4Q7dzeYVbk8FgoKSkxPbl3dHRYXcvvCeZzWbeeOMNqqqqeOCBB1CpVNTX19vNzR42bBienp50dHTw888/220fFhZGWFiYXZujKfLIPXPmTBYtWkS/fv2orKzk6aeflpfY6TySNjY2djkCK+HIrVarCQkJsXs09nrU1dVd9wIAN3PkVhJJktiwYQOhoaHU1taSmpraY2cG3dFoNGzcuBFfX18MBgNLly619S1btgy9Xk9LSwsrV65ky5YtAERHR/P666/zn//8hzlz5lzzReDepsgj95YtW/jmm28AeOCBB5gxY4a85JaSkJDA8uXLycrKuqFPRkaGfJe3jalTpzJy5Eh++OEHsrOzezXYAA899BADBw7EarWyf/9+u75Ro0bh6upKXV2d3UHi6NGjlJeXYzAYFBNslBpugA0bNtDY2IiXlxezZ8++4qQPjUaj+FPxFStW8Lvf/Y6HHnrohj7Tpk2T7/K2EBkZybx587BarWRkZPTJE4GBgYH069eP5uZmfvjhB1v7jBkzGD58OBcuXMBoNNqN+c1mM/Pnz6ewsNDWpgSKXYnl+PHj1NfX88gjj6DRaIiIiKC1tdXu9FSSJBYvXswjjzwCl69mmkwmTp48iSRJjB8/noCAANvE+SNHjtCvXz9aWlqIiopi5MiRjBo1ivb2dk6cOEH//v1tTxuFhobi7e3N+fPnaW1txc3Njfvvv5+wsDDCw8Pp378/J06cQKVSceHCBZqbm22/l6Oo1WqioqIYNWoUI0eOJDg42DZ2vPvuuxkxYgSXLl3i7Nmz8k0VR6vVsnz5cgYOHEheXh6lpaXykl7x/PPP4+fnh7u7O2fOnGHPnj0EBwezcOFC7r33XjZt2sQ777xjq9fr9aSlpTFo0CBFTPP8NUWOuX9Nq9Xy0ksvERERgYeHBxcuXOCnn34CwNvbGxcXFzZv3oynpycRERGkp6dTXl5OWFgYq1at6jJbzGw2U1BQQFZWVpdJCWazmdOnTxMeHm7XDmA0Ghk6dGiXPovF0mUs7yid42z539Wpra3tlhh/q9VqVq1aRXBwMBs3biQ3N1de0it+Pd42m834+vrS0NCAt7c3Z8+e5e2338ZoNNrqU1NTGT9+PEePHiUiIoIVK1awdetWu306kuLD3UmtVjNlyhQefvhhfH19aWxspLKykpKSEkU8xyv0DEmSKCgoICQkhO3bt9smY/SF+Ph4Mi8vvJCVlcXhw4fx9/fn/PnzXdZekySJwsJCTCYTOp2OMWPG8Oqrr1JWVmZX50i3TLiF20Nubi6xsbGUlpb22Gqo12rJkiXd3t/ujiRJBAcH09rayurVqzl37hyTJ0+WlzmUYi+oCbeftLQ0Hn/8cfbu3Wt3C6qvPPjgg6hUKr7//vvfDDaXh2O7d+/m0UcfZeDAgVRUVMhLHE6EW1CEpKQkZs2axfHjx8nKyurxJ9AA1q5dy8cff9zlmkR8fDzr1q0jMDAQLq8Ek52dbTev4Ep0Oh0Wi4Wvv/6a/Px820wyJRDhFhxOr9eTnJxMU1NTr93L1uv1hIeHU1FR0eWLY/jw4QwbNowff/yR2tpaVCoV/v7+uLr+djzCwsLw9fXl8OHDqNVq7r33Xvbt2ycvcxgx5hYcKjIyktdffx0uj3l741721KlTeeWVV1CpVD361hGNRsNbb72FSqXC1dWV9957T1HvIxPhFhxGq9WSn5+Pj48POTk5PR4MSZJIS0sjPj4eSZK6fZT4ZqnVakaPHo3ZbO6VM46bIcItOIRWqyUvL892b7kn72VHRkYyefJkIiIiGDBgAFx+WcCbb77JunXr5OVOS4Rb6HOd97J1Oh21tbUcPnxYXnLNOt/w6erqapuH3d3jyCdPnrzq7S1nI8It9Lnc3FymTJnSZ+upd3R08Mknn/T6Si5KI8It9Klnn32W+fPnc9ddd8m7es3FixfJz8/v8TG90olwC4KT+u0beYIg3LJEuAXBSYlwC4KTEuEWBCclwi0oglqtJiYmpsviGjdKp9MpbgpmXxPhFhRh6dKlvPnmm8yePVvedc2CgoJ47rnn2LBhA++++64i3rTpSCLcgiJ89dVXmEwmtm3bJu+6ZlFRUcTExNDc3IyLi4u8+7Yj7nMLTqdzLbnq6uoenyhyKxFHbsGhtFotOTk55OXlXXH5auHGiCO34DAajYacnByOHj2KTqejvr6emTNnXtcbWtrb2zl48KDddEtx5P4fceQWHCYmJoaWlha++OILPD09ba9aHjJkCDqdjkcfffSaPlqtVr5rQRy5BUcKCgqCyy+9j4uLY+3ataxfv15edt3Ekft/xJFbcJiamhrq6uoYO3Ysp0+fxmQyyUuEmyDCLThUXFwcPj4+1NTUMGnSJDIzM5k4cSJffPEF+/fvv+qnqqqKBQsWyHcriHALjhYYGEhHRwe7d+8mNDSUU6dO8fe//53f//73XV6I2N0nODiY1atXy3criHALjtbQ0MB///tfZs2aRUdHB5s3b5aXXLOUlBT27dvHihUrkCSJ0NBQ9u/fz0cffSQvvS2IC2qCw4WFheHh4dHlfVzCzRHhFgQnJU7LBcFJiXALgpMS4RYEJyXCLQhOSoRbEJyUCLcgOCkRbkFwUiLcguCkRLgFwUmJcAuCkxLhFgQnJcItCE5KhFsQnNT/A2VZKE+yPE1yAAAAAElFTkSuQmCC)"
      ],
      "metadata": {
        "id": "pl6cgLUn5b2i"
      }
    },
    {
      "cell_type": "markdown",
      "source": [
        "Q4.What is the mathematical formula for Entropy?"
      ],
      "metadata": {
        "id": "UQFbIui75f5a"
      }
    },
    {
      "cell_type": "markdown",
      "source": [
        "Ans.![FormulA1.png](data:image/png;base64,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)\n",
        "\n",
        "Where: C = number of classes\n",
        "pi = proportion (probability) of samples in class i at a given node"
      ],
      "metadata": {
        "id": "43Uk3fPK5jMj"
      }
    },
    {
      "cell_type": "markdown",
      "source": [
        "Q5.What is Information Gain, and how is it used in Decision Trees\t?"
      ],
      "metadata": {
        "id": "TSsOB9B06wj6"
      }
    },
    {
      "cell_type": "markdown",
      "source": [
        "Ans.Information Gain (IG) is a metric used in decision trees to measure how well a feature splits the data into pure subsets (i.e., subsets with predominantly one class). It quantifies the reduction in entropy caused by partitioning the data based on a feature.\n",
        "\n",
        "In ID3 and C4.5 decision tree algorithms:\n",
        "\n",
        "    For each feature, the algorithm computes the Information Gain of splitting the dataset on that feature.\n",
        "\n",
        "    It selects the feature with the highest Information Gain to split the node.\n",
        "\n",
        "    This process is repeated recursively to build the full tree."
      ],
      "metadata": {
        "id": "D242sSYm63uS"
      }
    },
    {
      "cell_type": "markdown",
      "source": [
        "Q6.What is the difference between Gini Impurity and Entropy?"
      ],
      "metadata": {
        "id": "g_QfvS7C7gch"
      }
    },
    {
      "cell_type": "markdown",
      "source": [
        "Ans."
      ],
      "metadata": {
        "id": "pw0u32xI8EiJ"
      }
    },
    {
      "cell_type": "markdown",
      "source": [
        "Q7.What is the mathematical explanation behind Decision Trees?"
      ],
      "metadata": {
        "id": "bLeBVIoo8KlY"
      }
    },
    {
      "cell_type": "markdown",
      "source": [
        "Ans.The mathematical explanation behind Decision Trees lies in how they recursively partition the feature space to minimize impurity and make predictions. Let’s break it down into its key components:\n",
        "\n",
        "1.Basic Setup\n",
        "\n",
        "2.Recursive Binary Splitting\n",
        "\n",
        "3.Impurity Measures\n",
        "\n",
        "4.Stopping Criteria"
      ],
      "metadata": {
        "id": "9KUlquiJ8Ogx"
      }
    },
    {
      "cell_type": "markdown",
      "source": [
        "Q8.What is Pre-Pruning in Decision Trees?"
      ],
      "metadata": {
        "id": "Coz2QhpY8kHB"
      }
    },
    {
      "cell_type": "markdown",
      "source": [
        "Ans.Instead of growing the tree fully and then trimming it (as in post-pruning), pre-pruning stops the tree during construction based on certain conditions."
      ],
      "metadata": {
        "id": "mavXbuGs8xoQ"
      }
    },
    {
      "cell_type": "markdown",
      "source": [
        "Q9.What is Pre-Pruning in Decision Trees?"
      ],
      "metadata": {
        "id": "sgTyrg909D7I"
      }
    },
    {
      "cell_type": "markdown",
      "source": [
        "Ans.Post-pruning (also known as cost-complexity pruning) is a technique in Decision Trees where the tree is first fully grown and then pruned back to reduce overfitting and improve generalization."
      ],
      "metadata": {
        "id": "ySZGRACnRKKX"
      }
    },
    {
      "cell_type": "markdown",
      "source": [
        "Q10.What is the difference between Pre-Pruning and Post-Pruning?"
      ],
      "metadata": {
        "id": "-5S8oSb4RORv"
      }
    },
    {
      "cell_type": "markdown",
      "source": [
        "Ans.Pre-pruning and post-pruning are two techniques used in decision tree learning to prevent overfitting, but they differ in when and how the pruning is applied. Pre-pruning, also known as early stopping, halts the growth of the tree during its construction. It applies constraints such as maximum depth, minimum number of samples per node, or a minimum improvement in impurity before deciding whether to split a node. This approach is faster and helps control model complexity upfront but may lead to underfitting if useful splits are stopped too early."
      ],
      "metadata": {
        "id": "Zhz-YGB5RUqv"
      }
    },
    {
      "cell_type": "markdown",
      "source": [
        "Q11.What is a Decision Tree Regressor?"
      ],
      "metadata": {
        "id": "ueysF3JJRdq_"
      }
    },
    {
      "cell_type": "markdown",
      "source": [
        "Ans.A Decision Tree Regressor is a type of machine learning model that uses a tree structure to predict continuous numerical values rather than categorical labels (as in classification)."
      ],
      "metadata": {
        "id": "TXDmYEVtRhhW"
      }
    },
    {
      "cell_type": "markdown",
      "source": [
        "Q12.What are the advantages and disadvantages of Decision Trees?"
      ],
      "metadata": {
        "id": "CyGsx4NORlS-"
      }
    },
    {
      "cell_type": "markdown",
      "source": [
        "Ans.Advantages of Decision Trees\n",
        "\n",
        "1.Easy to Understand and Interpret\n",
        "\n",
        "    Intuitive structure resembling a flowchart.\n",
        "\n",
        "    Can be visualized, making it accessible even to non-experts.\n",
        "\n",
        "2.Requires Minimal Data Preparation\n",
        "\n",
        "    No need for feature scaling or normalization.\n",
        "\n",
        "    Handles both numerical and categorical data.\n",
        "\n",
        "3.Captures Non-linear Relationships\n",
        "\n",
        "    Can model complex, non-linear patterns in data effectively.\n",
        "\n",
        "Disadvantages of Decision Trees\n",
        "\n",
        "1.Prone to Overfitting\n",
        "\n",
        "    A fully grown tree can fit training data too well, leading to poor generalization on unseen data.\n",
        "\n",
        "2.Unstable\n",
        "\n",
        "    Small changes in the data can result in a completely different tree structure (high variance).\n",
        "\n",
        "3.Bias Toward Dominant Features\n",
        "\n",
        "    Trees may favor features with more levels or values unless corrected.\n",
        "\n",
        "4.Poor Performance Compared to Ensemble Methods\n",
        "\n",
        "    Alone, decision trees may perform worse than more advanced models like Random Forest or Gradient Boosting."
      ],
      "metadata": {
        "id": "D6MVxrqbRof3"
      }
    },
    {
      "cell_type": "markdown",
      "source": [
        "Q13.How does a Decision Tree handle missing values?"
      ],
      "metadata": {
        "id": "PXi7FLnOSLxm"
      }
    },
    {
      "cell_type": "markdown",
      "source": [
        "Ans.How Decision Trees Handle Missing Values\n",
        "\n",
        "1. Imputation (Manual Preprocessing) - Common in scikit-learn\n",
        "    \n",
        "    Missing values are filled in (imputed) before training using strategies like:\n",
        "\n",
        "        Mean/median/mode imputation\n",
        "\n",
        "        KNN imputation\n",
        "\n",
        "        Using specialized transformers (SimpleImputer, IterativeImputer)\n",
        "\n",
        "2.Surrogate Splits (Used in CART and some frameworks)\n",
        "\n",
        "    If a value is missing for the primary splitting feature, the tree uses a backup (surrogate) feature that most closely mimics the primary split.\n",
        "\n",
        "    This maintains decision logic even when values are missing.\n",
        "\n",
        "3. Default Direction (Used in XGBoost, LightGBM)\n",
        "\n",
        "    During training, the algorithm learns the best direction (left or right) to send missing values at each node.\n",
        "\n",
        "    During prediction, if a feature is missing, it follows that default learned path.\n",
        "\n"
      ],
      "metadata": {
        "id": "_o6-n8uISO_e"
      }
    },
    {
      "cell_type": "markdown",
      "source": [
        "Q14.How does a Decision Tree handle categorical features?"
      ],
      "metadata": {
        "id": "eVSIs7ZZSsWO"
      }
    },
    {
      "cell_type": "markdown",
      "source": [
        "Ans.\n",
        "\n",
        "1.Inherent Handling (Some Libraries Like LightGBM, CatBoost)\n",
        "    \n",
        "    LightGBM and CatBoost natively handle categorical features without one-hot encoding.\n",
        "\n",
        "    They learn optimal splits directly based on the category values, often using ordering or target statistics\n",
        "\n",
        "2.Manual Encoding (Required in scikit-learn)\n",
        "\n",
        "    Scikit-learn's DecisionTreeClassifier and DecisionTreeRegressor do not natively support categorical variables, so you must convert them to numeric format."
      ],
      "metadata": {
        "id": "jyY2P8fkSvie"
      }
    },
    {
      "cell_type": "markdown",
      "source": [
        "Q15.What are some real-world applications of Decision Trees?"
      ],
      "metadata": {
        "id": "84ACRdaITG0-"
      }
    },
    {
      "cell_type": "markdown",
      "source": [
        "Ans.Real-World Applications of Decision Trees\n",
        "\n",
        "1.Finance & Banking\n",
        "\n",
        "    Credit scoring: Assessing a borrower’s risk level based on income, credit history, and spending patterns.\n",
        "\n",
        "    Fraud detection: Identifying suspicious transactions by learning patterns in customer behavior.\n",
        "\n",
        "    Loan approval: Automating decisions based on applicant attributes (e.g., age, employment, credit score).\n",
        "\n",
        "2.Healthcare\n",
        "\n",
        "    Medical diagnosis: Predicting the presence or absence of diseases using symptoms and test results.\n",
        "\n",
        "    Treatment recommendation: Suggesting treatments based on patient data and medical history.\n",
        "\n",
        "    Risk stratification: Classifying patients into risk groups for diseases like heart failure or diabetes.\n",
        "\n",
        "3.Retail & E-commerce\n",
        "\n",
        "    Customer segmentation: Grouping customers by purchasing behavior or demographics for marketing.\n",
        "\n",
        "    Recommendation systems: Predicting what products a user might be interested in.\n",
        "\n",
        "    Churn prediction: Identifying customers likely to stop using a service.\n",
        "\n",
        "4.Human Resources\n",
        "\n",
        "    Hiring decisions: Filtering candidates based on experience, education, and interview scores.\n",
        "\n",
        "    Employee attrition prediction: Predicting which employees are likely to leave.\n",
        "\n",
        "    Performance evaluation: Assessing employee productivity using various metrics."
      ],
      "metadata": {
        "id": "OV_-oLBbTJ_W"
      }
    },
    {
      "cell_type": "markdown",
      "source": [
        "**Practical Questions**"
      ],
      "metadata": {
        "id": "n0O-ld0tTrn2"
      }
    },
    {
      "cell_type": "markdown",
      "source": [
        "Q16.Write a Python program to train a Decision Tree Classifier on the Iris dataset and print the model accuracy?"
      ],
      "metadata": {
        "id": "ROmPG8ZdTuk1"
      }
    },
    {
      "cell_type": "code",
      "source": [
        "from sklearn.datasets import load_iris\n",
        "from sklearn.model_selection import train_test_split\n",
        "from sklearn.tree import DecisionTreeClassifier\n",
        "from sklearn.metrics import accuracy_score\n",
        "\n",
        "iris = load_iris()\n",
        "X = iris.data\n",
        "y = iris.target\n",
        "\n",
        "X_train, X_test, y_train, y_test = train_test_split(X, y, test_size=0.2, random_state=42)\n",
        "\n",
        "clf = DecisionTreeClassifier(random_state=42)\n",
        "clf.fit(X_train, y_train)\n",
        "\n",
        "y_pred = clf.predict(X_test)\n",
        "\n",
        "accuracy = accuracy_score(y_test, y_pred)\n",
        "print(f\"Decision Tree Classifier Accuracy on Iris dataset: {accuracy:.2f}\")\n"
      ],
      "metadata": {
        "colab": {
          "base_uri": "https://localhost:8080/"
        },
        "id": "VF-evQGQT1Om",
        "outputId": "c2b3fed4-ff62-4764-9042-76092b5b7f70"
      },
      "execution_count": 1,
      "outputs": [
        {
          "output_type": "stream",
          "name": "stdout",
          "text": [
            "Decision Tree Classifier Accuracy on Iris dataset: 1.00\n"
          ]
        }
      ]
    },
    {
      "cell_type": "markdown",
      "source": [
        "Q17.Write a Python program to train a Decision Tree Classifier using Gini Impurity as the criterion and print the feature importances."
      ],
      "metadata": {
        "id": "a9QqBqkjUTMt"
      }
    },
    {
      "cell_type": "code",
      "source": [
        "from sklearn.datasets import load_iris\n",
        "from sklearn.model_selection import train_test_split\n",
        "from sklearn.tree import DecisionTreeClassifier\n",
        "\n",
        "iris = load_iris()\n",
        "X = iris.data\n",
        "y = iris.target\n",
        "feature_names = iris.feature_names\n",
        "\n",
        "X_train, X_test, y_train, y_test = train_test_split(X, y, test_size=0.2, random_state=42)\n",
        "\n",
        "clf = DecisionTreeClassifier(criterion='gini', random_state=42)\n",
        "clf.fit(X_train, y_train)\n",
        "\n",
        "print(\"Feature Importances (Gini):\")\n",
        "for name, importance in zip(feature_names, clf.feature_importances_):\n",
        "    print(f\"{name}: {importance:.4f}\")\n"
      ],
      "metadata": {
        "colab": {
          "base_uri": "https://localhost:8080/"
        },
        "id": "Q_I0N8evUZl9",
        "outputId": "eac49991-d20d-4d6c-f8fa-4de3831b6330"
      },
      "execution_count": 2,
      "outputs": [
        {
          "output_type": "stream",
          "name": "stdout",
          "text": [
            "Feature Importances (Gini):\n",
            "sepal length (cm): 0.0000\n",
            "sepal width (cm): 0.0167\n",
            "petal length (cm): 0.9061\n",
            "petal width (cm): 0.0772\n"
          ]
        }
      ]
    },
    {
      "cell_type": "markdown",
      "source": [
        "Q18.Write a Python program to train a Decision Tree Classifier using Entropy as the splitting criterion and print the model accuracy."
      ],
      "metadata": {
        "id": "h17he46dUjHN"
      }
    },
    {
      "cell_type": "code",
      "source": [
        "from sklearn.datasets import load_iris\n",
        "from sklearn.model_selection import train_test_split\n",
        "from sklearn.tree import DecisionTreeClassifier\n",
        "from sklearn.metrics import accuracy_score\n",
        "\n",
        "iris = load_iris()\n",
        "X = iris.data\n",
        "y = iris.target\n",
        "\n",
        "X_train, X_test, y_train, y_test = train_test_split(X, y, test_size=0.2, random_state=42)\n",
        "\n",
        "clf = DecisionTreeClassifier(criterion='entropy', random_state=42)\n",
        "clf.fit(X_train, y_train)\n",
        "\n",
        "y_pred = clf.predict(X_test)\n",
        "\n",
        "accuracy = accuracy_score(y_test, y_pred)\n",
        "print(f\"Decision Tree Classifier Accuracy (Entropy): {accuracy:.2f}\")\n"
      ],
      "metadata": {
        "colab": {
          "base_uri": "https://localhost:8080/"
        },
        "id": "HAQMynS4UoJd",
        "outputId": "6b88b752-ee3f-4a7c-e590-904cf60d2bcc"
      },
      "execution_count": 3,
      "outputs": [
        {
          "output_type": "stream",
          "name": "stdout",
          "text": [
            "Decision Tree Classifier Accuracy (Entropy): 1.00\n"
          ]
        }
      ]
    },
    {
      "cell_type": "markdown",
      "source": [
        "Q19.Write a Python program to train a Decision Tree Regressor on a housing dataset and evaluate using Mean Squared Error (MSE)."
      ],
      "metadata": {
        "id": "bDdSG_LWUvKt"
      }
    },
    {
      "cell_type": "code",
      "source": [
        "from sklearn.datasets import fetch_california_housing\n",
        "from sklearn.model_selection import train_test_split\n",
        "from sklearn.tree import DecisionTreeRegressor\n",
        "from sklearn.metrics import mean_squared_error\n",
        "\n",
        "data = fetch_california_housing()\n",
        "X = data.data\n",
        "y = data.target\n",
        "\n",
        "X_train, X_test, y_train, y_test = train_test_split(X, y, test_size=0.2, random_state=42)\n",
        "\n",
        "regressor = DecisionTreeRegressor(random_state=42)\n",
        "regressor.fit(X_train, y_train)\n",
        "\n",
        "y_pred = regressor.predict(X_test)\n",
        "\n",
        "mse = mean_squared_error(y_test, y_pred)\n",
        "print(f\"Decision Tree Regressor Mean Squared Error: {mse:.4f}\")\n"
      ],
      "metadata": {
        "colab": {
          "base_uri": "https://localhost:8080/"
        },
        "id": "Kg-KCXrGU0X1",
        "outputId": "5258974d-7627-4ebb-8fee-15954875f469"
      },
      "execution_count": 4,
      "outputs": [
        {
          "output_type": "stream",
          "name": "stdout",
          "text": [
            "Decision Tree Regressor Mean Squared Error: 0.4952\n"
          ]
        }
      ]
    },
    {
      "cell_type": "markdown",
      "source": [
        "Q20.Write a Python program to train a Decision Tree Classifier and visualize the tree using graphviz."
      ],
      "metadata": {
        "id": "tnvu0ktLU9gF"
      }
    },
    {
      "cell_type": "code",
      "source": [
        "from sklearn.datasets import load_iris\n",
        "from sklearn.tree import DecisionTreeClassifier, export_graphviz\n",
        "from sklearn.model_selection import train_test_split\n",
        "import graphviz\n",
        "\n",
        "iris = load_iris()\n",
        "X, y = iris.data, iris.target\n",
        "feature_names = iris.feature_names\n",
        "class_names = iris.target_names\n",
        "\n",
        "X_train, X_test, y_train, y_test = train_test_split(X, y, random_state=42)\n",
        "\n",
        "clf = DecisionTreeClassifier(random_state=42)\n",
        "clf.fit(X_train, y_train)\n",
        "\n",
        "dot_data = export_graphviz(\n",
        "    clf,\n",
        "    out_file=None,\n",
        "    feature_names=feature_names,\n",
        "    class_names=class_names,\n",
        "    filled=True,\n",
        "    rounded=True,\n",
        "    special_characters=True\n",
        ")\n",
        "\n",
        "graph = graphviz.Source(dot_data)\n",
        "graph.render(\"decision_tree_iris\")\n",
        "graph.view()\n"
      ],
      "metadata": {
        "colab": {
          "base_uri": "https://localhost:8080/",
          "height": 36
        },
        "id": "CJ1AQyvXVAkd",
        "outputId": "4708df67-7f59-41db-eb8a-f0c832868423"
      },
      "execution_count": 5,
      "outputs": [
        {
          "output_type": "execute_result",
          "data": {
            "text/plain": [
              "'decision_tree_iris.pdf'"
            ],
            "application/vnd.google.colaboratory.intrinsic+json": {
              "type": "string"
            }
          },
          "metadata": {},
          "execution_count": 5
        }
      ]
    },
    {
      "cell_type": "markdown",
      "source": [
        "Q21.Write a Python program to train a Decision Tree Classifier with a maximum depth of 3 and compare its accuracy with a fully grown tree."
      ],
      "metadata": {
        "id": "kEmUphPwWeKk"
      }
    },
    {
      "cell_type": "code",
      "source": [
        "from sklearn.datasets import load_iris\n",
        "from sklearn.model_selection import train_test_split\n",
        "from sklearn.tree import DecisionTreeClassifier\n",
        "from sklearn.metrics import accuracy_score\n",
        "\n",
        "iris = load_iris()\n",
        "X, y = iris.data, iris.target\n",
        "\n",
        "X_train, X_test, y_train, y_test = train_test_split(X, y, test_size=0.2, random_state=42)\n",
        "\n",
        "clf_limited = DecisionTreeClassifier(max_depth=3, random_state=42)\n",
        "clf_limited.fit(X_train, y_train)\n",
        "y_pred_limited = clf_limited.predict(X_test)\n",
        "accuracy_limited = accuracy_score(y_test, y_pred_limited)\n",
        "\n",
        "clf_full = DecisionTreeClassifier(random_state=42)\n",
        "clf_full.fit(X_train, y_train)\n",
        "y_pred_full = clf_full.predict(X_test)\n",
        "accuracy_full = accuracy_score(y_test, y_pred_full)\n",
        "\n",
        "print(f\"Accuracy with max_depth=3: {accuracy_limited:.2f}\")\n",
        "print(f\"Accuracy of fully grown tree: {accuracy_full:.2f}\")\n"
      ],
      "metadata": {
        "colab": {
          "base_uri": "https://localhost:8080/"
        },
        "id": "uSU3mpePWiTc",
        "outputId": "5e14de66-1d4c-48f1-850d-eb23f309d36f"
      },
      "execution_count": 6,
      "outputs": [
        {
          "output_type": "stream",
          "name": "stdout",
          "text": [
            "Accuracy with max_depth=3: 1.00\n",
            "Accuracy of fully grown tree: 1.00\n"
          ]
        }
      ]
    },
    {
      "cell_type": "markdown",
      "source": [
        "Q22. Write a Python program to train a Decision Tree Classifier using min_samples_split=5 and compare its accuracy with a default tree."
      ],
      "metadata": {
        "id": "i4XdI_EBXCYj"
      }
    },
    {
      "cell_type": "code",
      "source": [
        "from sklearn.datasets import load_iris\n",
        "from sklearn.model_selection import train_test_split\n",
        "from sklearn.tree import DecisionTreeClassifier\n",
        "from sklearn.metrics import accuracy_score\n",
        "\n",
        "iris = load_iris()\n",
        "X, y = iris.data, iris.target\n",
        "\n",
        "X_train, X_test, y_train, y_test = train_test_split(X, y, test_size=0.2, random_state=42)\n",
        "\n",
        "clf_min_split = DecisionTreeClassifier(min_samples_split=5, random_state=42)\n",
        "clf_min_split.fit(X_train, y_train)\n",
        "y_pred_min_split = clf_min_split.predict(X_test)\n",
        "accuracy_min_split = accuracy_score(y_test, y_pred_min_split)\n",
        "\n",
        "clf_default = DecisionTreeClassifier(random_state=42)\n",
        "clf_default.fit(X_train, y_train)\n",
        "y_pred_default = clf_default.predict(X_test)\n",
        "accuracy_default = accuracy_score(y_test, y_pred_default)\n",
        "\n",
        "print(f\"Accuracy with min_samples_split=5: {accuracy_min_split:.2f}\")\n",
        "print(f\"Accuracy with default min_samples_split=2: {accuracy_default:.2f}\")\n"
      ],
      "metadata": {
        "colab": {
          "base_uri": "https://localhost:8080/"
        },
        "id": "G1lhXDPJXHIM",
        "outputId": "b6734f5a-0c29-4c2a-b08d-4d26fd48a30e"
      },
      "execution_count": 7,
      "outputs": [
        {
          "output_type": "stream",
          "name": "stdout",
          "text": [
            "Accuracy with min_samples_split=5: 1.00\n",
            "Accuracy with default min_samples_split=2: 1.00\n"
          ]
        }
      ]
    },
    {
      "cell_type": "markdown",
      "source": [
        "Q23.Write a Python program to apply feature scaling before training a Decision Tree Classifier and compare its accuracy with unscaled data."
      ],
      "metadata": {
        "id": "bbuDZllgXPQb"
      }
    },
    {
      "cell_type": "code",
      "source": [
        "from sklearn.datasets import load_iris\n",
        "from sklearn.model_selection import train_test_split\n",
        "from sklearn.preprocessing import StandardScaler\n",
        "from sklearn.tree import DecisionTreeClassifier\n",
        "from sklearn.metrics import accuracy_score\n",
        "\n",
        "iris = load_iris()\n",
        "X, y = iris.data, iris.target\n",
        "\n",
        "X_train, X_test, y_train, y_test = train_test_split(X, y, test_size=0.2, random_state=42)\n",
        "\n",
        "clf_unscaled = DecisionTreeClassifier(random_state=42)\n",
        "clf_unscaled.fit(X_train, y_train)\n",
        "y_pred_unscaled = clf_unscaled.predict(X_test)\n",
        "accuracy_unscaled = accuracy_score(y_test, y_pred_unscaled)\n",
        "\n",
        "scaler = StandardScaler()\n",
        "X_train_scaled = scaler.fit_transform(X_train)\n",
        "X_test_scaled = scaler.transform(X_test)\n",
        "\n",
        "clf_scaled = DecisionTreeClassifier(random_state=42)\n",
        "clf_scaled.fit(X_train_scaled, y_train)\n",
        "y_pred_scaled = clf_scaled.predict(X_test_scaled)\n",
        "accuracy_scaled = accuracy_score(y_test, y_pred_scaled)\n",
        "\n",
        "print(f\"Accuracy without feature scaling: {accuracy_unscaled:.2f}\")\n",
        "print(f\"Accuracy with feature scaling: {accuracy_scaled:.2f}\")\n"
      ],
      "metadata": {
        "colab": {
          "base_uri": "https://localhost:8080/"
        },
        "id": "j51fo86aXUfr",
        "outputId": "1293728d-2844-4c6e-d13a-2f949eddcd8f"
      },
      "execution_count": 8,
      "outputs": [
        {
          "output_type": "stream",
          "name": "stdout",
          "text": [
            "Accuracy without feature scaling: 1.00\n",
            "Accuracy with feature scaling: 1.00\n"
          ]
        }
      ]
    },
    {
      "cell_type": "markdown",
      "source": [
        "Q24.Write a Python program to train a Decision Tree Classifier using One-vs-Rest (OvR) strategy for multiclass classification."
      ],
      "metadata": {
        "id": "5s-XFboUXr_r"
      }
    },
    {
      "cell_type": "code",
      "source": [
        "from sklearn.datasets import load_iris\n",
        "from sklearn.model_selection import train_test_split\n",
        "from sklearn.tree import DecisionTreeClassifier\n",
        "from sklearn.multiclass import OneVsRestClassifier\n",
        "from sklearn.metrics import accuracy_score\n",
        "\n",
        "iris = load_iris()\n",
        "X, y = iris.data, iris.target\n",
        "\n",
        "X_train, X_test, y_train, y_test = train_test_split(X, y, test_size=0.2, random_state=42)\n",
        "\n",
        "ovr_clf = OneVsRestClassifier(DecisionTreeClassifier(random_state=42))\n",
        "\n",
        "ovr_clf.fit(X_train, y_train)\n",
        "\n",
        "y_pred = ovr_clf.predict(X_test)\n",
        "\n",
        "accuracy = accuracy_score(y_test, y_pred)\n",
        "print(f\"Decision Tree with OvR strategy Accuracy: {accuracy:.2f}\")\n"
      ],
      "metadata": {
        "colab": {
          "base_uri": "https://localhost:8080/"
        },
        "id": "Vw4pbbfjXvUT",
        "outputId": "a8cecf70-9b66-4259-b00c-29df4071699d"
      },
      "execution_count": 9,
      "outputs": [
        {
          "output_type": "stream",
          "name": "stdout",
          "text": [
            "Decision Tree with OvR strategy Accuracy: 1.00\n"
          ]
        }
      ]
    },
    {
      "cell_type": "markdown",
      "source": [
        "Q25.Write a Python program to train a Decision Tree Classifier and display the feature importance scores."
      ],
      "metadata": {
        "id": "uZBMCnAxX2o7"
      }
    },
    {
      "cell_type": "code",
      "source": [
        "from sklearn.datasets import load_iris\n",
        "from sklearn.tree import DecisionTreeClassifier\n",
        "\n",
        "iris = load_iris()\n",
        "X, y = iris.data, iris.target\n",
        "feature_names = iris.feature_names\n",
        "\n",
        "clf = DecisionTreeClassifier(random_state=42)\n",
        "clf.fit(X, y)\n",
        "\n",
        "importances = clf.feature_importances_\n",
        "\n",
        "print(\"Feature Importances:\")\n",
        "for name, importance in zip(feature_names, importances):\n",
        "    print(f\"{name}: {importance:.4f}\")\n"
      ],
      "metadata": {
        "colab": {
          "base_uri": "https://localhost:8080/"
        },
        "id": "TLxDRNKgX9cj",
        "outputId": "b05907d9-5cce-435b-8cef-18b9244c948a"
      },
      "execution_count": 10,
      "outputs": [
        {
          "output_type": "stream",
          "name": "stdout",
          "text": [
            "Feature Importances:\n",
            "sepal length (cm): 0.0133\n",
            "sepal width (cm): 0.0000\n",
            "petal length (cm): 0.5641\n",
            "petal width (cm): 0.4226\n"
          ]
        }
      ]
    },
    {
      "cell_type": "markdown",
      "source": [
        "Q26.Write a Python program to train a Decision Tree Regressor with max_depth=5 and compare its performance with an unrestricted tree."
      ],
      "metadata": {
        "id": "Rqau_p8_YELa"
      }
    },
    {
      "cell_type": "code",
      "source": [
        "from sklearn.datasets import fetch_california_housing\n",
        "from sklearn.model_selection import train_test_split\n",
        "from sklearn.tree import DecisionTreeRegressor\n",
        "from sklearn.metrics import mean_squared_error\n",
        "\n",
        "data = fetch_california_housing()\n",
        "X, y = data.data, data.target\n",
        "\n",
        "X_train, X_test, y_train, y_test = train_test_split(X, y, test_size=0.2, random_state=42)\n",
        "\n",
        "regressor_limited = DecisionTreeRegressor(max_depth=5, random_state=42)\n",
        "regressor_limited.fit(X_train, y_train)\n",
        "y_pred_limited = regressor_limited.predict(X_test)\n",
        "mse_limited = mean_squared_error(y_test, y_pred_limited)\n",
        "\n",
        "regressor_full = DecisionTreeRegressor(random_state=42)\n",
        "regressor_full.fit(X_train, y_train)\n",
        "y_pred_full = regressor_full.predict(X_test)\n",
        "mse_full = mean_squared_error(y_test, y_pred_full)\n",
        "\n",
        "print(f\"MSE with max_depth=5: {mse_limited:.4f}\")\n",
        "print(f\"MSE with unrestricted tree: {mse_full:.4f}\")\n"
      ],
      "metadata": {
        "colab": {
          "base_uri": "https://localhost:8080/"
        },
        "id": "2iMmDkUEYHwD",
        "outputId": "adf496c6-ecfe-4d54-fc92-97926429f892"
      },
      "execution_count": 11,
      "outputs": [
        {
          "output_type": "stream",
          "name": "stdout",
          "text": [
            "MSE with max_depth=5: 0.5245\n",
            "MSE with unrestricted tree: 0.4952\n"
          ]
        }
      ]
    },
    {
      "cell_type": "markdown",
      "source": [
        "Q27.Write a Python program to train a Decision Tree Classifier, apply Cost Complexity Pruning (CCP), and visualize its effect on accuracy."
      ],
      "metadata": {
        "id": "-WIJ7NNjYPdr"
      }
    },
    {
      "cell_type": "code",
      "source": [
        "import matplotlib.pyplot as plt\n",
        "from sklearn.datasets import load_iris\n",
        "from sklearn.tree import DecisionTreeClassifier\n",
        "from sklearn.model_selection import train_test_split\n",
        "from sklearn.metrics import accuracy_score\n",
        "\n",
        "iris = load_iris()\n",
        "X, y = iris.data, iris.target\n",
        "\n",
        "X_train, X_test, y_train, y_test = train_test_split(X, y, random_state=42, test_size=0.2)\n",
        "\n",
        "clf = DecisionTreeClassifier(random_state=42)\n",
        "clf.fit(X_train, y_train)\n",
        "\n",
        "path = clf.cost_complexity_pruning_path(X_train, y_train)\n",
        "ccp_alphas = path.ccp_alphas[:-1]\n",
        "\n",
        "clfs = []\n",
        "test_accuracies = []\n",
        "\n",
        "for ccp_alpha in ccp_alphas:\n",
        "    clf_pruned = DecisionTreeClassifier(random_state=42, ccp_alpha=ccp_alpha)\n",
        "    clf_pruned.fit(X_train, y_train)\n",
        "    y_pred = clf_pruned.predict(X_test)\n",
        "    acc = accuracy_score(y_test, y_pred)\n",
        "    clfs.append(clf_pruned)\n",
        "    test_accuracies.append(acc)\n",
        "\n",
        "plt.figure(figsize=(8,5))\n",
        "plt.plot(ccp_alphas, test_accuracies, marker='o', drawstyle=\"steps-post\")\n",
        "plt.xlabel(\"CCP alpha\")\n",
        "plt.ylabel(\"Test Accuracy\")\n",
        "plt.title(\"Effect of Cost Complexity Pruning on Decision Tree Accuracy\")\n",
        "plt.grid(True)\n",
        "plt.show()\n"
      ],
      "metadata": {
        "colab": {
          "base_uri": "https://localhost:8080/",
          "height": 487
        },
        "id": "4VoF7W8hYTML",
        "outputId": "fbda3a11-4411-4040-b31e-e29d84a5828d"
      },
      "execution_count": 12,
      "outputs": [
        {
          "output_type": "display_data",
          "data": {
            "text/plain": [
              "<Figure size 800x500 with 1 Axes>"
            ],
            "image/png": "[encoded data removed]"
          },
          "metadata": {}
        }
      ]
    },
    {
      "cell_type": "markdown",
      "source": [
        "Q28.Write a Python program to train a Decision Tree Classifier and evaluate its performance using Precision, Recall, and F1-Score."
      ],
      "metadata": {
        "id": "-DgVhpvPYrYz"
      }
    },
    {
      "cell_type": "code",
      "source": [
        "from sklearn.datasets import load_iris\n",
        "from sklearn.model_selection import train_test_split\n",
        "from sklearn.tree import DecisionTreeClassifier\n",
        "from sklearn.metrics import precision_score, recall_score, f1_score, classification_report\n",
        "\n",
        "iris = load_iris()\n",
        "X, y = iris.data, iris.target\n",
        "\n",
        "X_train, X_test, y_train, y_test = train_test_split(X, y, test_size=0.2, random_state=42)\n",
        "\n",
        "clf = DecisionTreeClassifier(random_state=42)\n",
        "clf.fit(X_train, y_train)\n",
        "\n",
        "y_pred = clf.predict(X_test)\n",
        "\n",
        "precision = precision_score(y_test, y_pred, average='macro')\n",
        "recall = recall_score(y_test, y_pred, average='macro')\n",
        "f1 = f1_score(y_test, y_pred, average='macro')\n",
        "\n",
        "print(f\"Precision (macro): {precision:.2f}\")\n",
        "print(f\"Recall (macro): {recall:.2f}\")\n",
        "print(f\"F1-Score (macro): {f1:.2f}\")\n",
        "\n",
        "print(\"\\nClassification Report:\\n\")\n",
        "print(classification_report(y_test, y_pred, target_names=iris.target_names))\n"
      ],
      "metadata": {
        "colab": {
          "base_uri": "https://localhost:8080/"
        },
        "id": "nvbOjYGkYuqy",
        "outputId": "08a7ee71-0acf-4781-fc31-6a2d64a08311"
      },
      "execution_count": 13,
      "outputs": [
        {
          "output_type": "stream",
          "name": "stdout",
          "text": [
            "Precision (macro): 1.00\n",
            "Recall (macro): 1.00\n",
            "F1-Score (macro): 1.00\n",
            "\n",
            "Classification Report:\n",
            "\n",
            "              precision    recall  f1-score   support\n",
            "\n",
            "      setosa       1.00      1.00      1.00        10\n",
            "  versicolor       1.00      1.00      1.00         9\n",
            "   virginica       1.00      1.00      1.00        11\n",
            "\n",
            "    accuracy                           1.00        30\n",
            "   macro avg       1.00      1.00      1.00        30\n",
            "weighted avg       1.00      1.00      1.00        30\n",
            "\n"
          ]
        }
      ]
    }
  ]
}